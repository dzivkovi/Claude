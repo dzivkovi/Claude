{
 "cells": [
  {
   "cell_type": "code",
   "execution_count": 69,
   "metadata": {
    "cellView": "form",
    "id": "9A9NkTRTfo2I"
   },
   "outputs": [],
   "source": [
    "# Copyright 2024 Google LLC\n",
    "#\n",
    "# Licensed under the Apache License, Version 2.0 (the \"License\");\n",
    "# you may not use this file except in compliance with the License.\n",
    "# You may obtain a copy of the License at\n",
    "#\n",
    "#     https://www.apache.org/licenses/LICENSE-2.0\n",
    "#\n",
    "# Unless required by applicable law or agreed to in writing, software\n",
    "# distributed under the License is distributed on an \"AS IS\" BASIS,\n",
    "# WITHOUT WARRANTIES OR CONDITIONS OF ANY KIND, either express or implied.\n",
    "# See the License for the specific language governing permissions and\n",
    "# limitations under the License."
   ]
  },
  {
   "cell_type": "markdown",
   "metadata": {
    "id": "IPprg6Oz0QDs"
   },
   "source": [
    "# Getting Started with Claude Models\n",
    "<table align=\"left\">\n",
    "  <td style=\"text-align: center\">\n",
    "    <a href=\"https://colab.research.google.com/github/GoogleCloudPlatform/vertex-ai-samples/blob/main/notebooks/official/generative_ai/anthropic_claude_3_intro.ipynb\">\n",
    "      <img src=\"https://cloud.google.com/ml-engine/images/colab-logo-32px.png\" alt=\"Google Colaboratory logo\"><br> Open in Colab\n",
    "    </a>\n",
    "  </td>\n",
    "  <td style=\"text-align: center\">\n",
    "    <a href=\"https://console.cloud.google.com/vertex-ai/colab/import/https:%2F%2Fraw.githubusercontent.com%2FGoogleCloudPlatform%2Fvertex-ai-samples%2Fmain%2Fnotebooks%2Fofficial%2Fgenerative_ai%2Fanthropic_claude_3_intro.ipynb\">\n",
    "      <img width=\"32px\" src=\"https://cloud.google.com/ml-engine/images/colab-enterprise-logo-32px.png\" alt=\"Google Cloud Colab Enterprise logo\"><br> Open in Colab Enterprise\n",
    "    </a>\n",
    "  </td>\n",
    "  <td style=\"text-align: center\">                                                                             \n",
    "    <a href=\"https://console.cloud.google.com/vertex-ai/notebooks/deploy-notebook?download_url=https://raw.githubusercontent.com/GoogleCloudPlatform/vertex-ai-samples/main/notebooks/official/generative_ai/anthropic_claude_3_intro.ipynb\">\n",
    "      <img src=\"https://lh3.googleusercontent.com/UiNooY4LUgW_oTvpsNhPpQzsstV5W8F7rYgxgGBD85cWJoLmrOzhVs_ksK_vgx40SHs7jCqkTkCk=e14-rj-sc0xffffff-h130-w32\" alt=\"Vertex AI logo\"><br> Open in Workbench\n",
    "    </a>\n",
    "  </td>\n",
    "  <td style=\"text-align: center\">\n",
    "    <a href=\"https://github.com/GoogleCloudPlatform/vertex-ai-samples/blob/main/notebooks/official/generative_ai/anthropic_claude_3_intro.ipynb\">\n",
    "      <img src=\"https://cloud.google.com/ml-engine/images/github-logo-32px.png\" alt=\"GitHub logo\"><br> View on GitHub\n",
    "    </a>\n",
    "  </td>\n",
    "  \n",
    "</table>"
   ]
  },
  {
   "cell_type": "markdown",
   "metadata": {
    "id": "8fK_rdvvx1iZ"
   },
   "source": [
    "## Overview\n",
    "\n",
    "### Claude on Vertex AI\n",
    "\n",
    "Anthropic Claude models on Vertex AI offer fully managed and serverless models are offered as managed APIs. To use a Claude model on Vertex AI, send a request directly to the Vertex AI API endpoint.\n",
    "\n",
    "You can stream your Claude responses to reduce the end-user latency perception. A streamed response uses server-sent events (SSE) to incrementally stream the response.\n",
    "\n",
    "### Available Anthropic Claude models\n",
    "\n",
    "#### Claude 3.5 Sonnet v2\n",
    "The upgraded Claude 3.5 Sonnet is now state-of-the-art for a variety of tasks including real-world software engineering, enhanced agentic capabilities, and computer use.\n",
    "\n",
    "#### Claude 3.5 Haiku\n",
    "Claude 3.5 Haiku, Anthropic’s fastest and most cost-effective model, excels at use cases like code and test case generation, sub-agents, and user-facing chatbots.\n",
    "\n",
    "#### Claude 3.5 Sonnet\n",
    "Anthropic's most powerful AI model. Claude 3.5 Sonnet outperforms competitor models and Claude 3 Opus at higher speeds and lower cost.\n",
    "\n",
    "#### Claude 3 Opus\n",
    "Claude 3 Opus is Anthropic's second-most intelligent AI model, with top-level performance on highly complex tasks.\n",
    "\n",
    "#### Claude 3 Haiku\n",
    "Anthropic Claude 3 Haiku is Anthropic's fastest, most compact vision and text model for near-instant responses to simple queries, meant for seamless AI experiences mimicking human interactions.\n",
    "\n",
    "#### Claude 3 Sonnet\n",
    "Anthropic Claude 3 Sonnet is engineered to be dependable for scaled AI deployments across a variety of use cases.\n",
    "\n",
    "All Claude models can process images and return text outputs, and feature a 200K context window.\n",
    "\n",
    "## Objective\n",
    "\n",
    "This notebook shows how to use **Vertex AI API** and **Anthropic’s Vertex SDK for Python** to call the Claude models on Vertex AI API.\n",
    "\n",
    "For more information, see the [Use Claude](https://cloud.google.com/vertex-ai/generative-ai/docs/partner-models/use-claude) documentation.\n"
   ]
  },
  {
   "cell_type": "markdown",
   "metadata": {
    "id": "HcJCV6Dw5usD"
   },
   "source": [
    "## Vertex AI API"
   ]
  },
  {
   "cell_type": "markdown",
   "metadata": {
    "id": "nwYvaaW25jYS"
   },
   "source": [
    "## Get Started\n"
   ]
  },
  {
   "cell_type": "markdown",
   "metadata": {
    "id": "0660e339bf3f"
   },
   "source": [
    "### Install required packages\n"
   ]
  },
  {
   "cell_type": "code",
   "execution_count": 70,
   "metadata": {
    "id": "754611260f53"
   },
   "outputs": [],
   "source": [
    "!pip install -U -q httpx"
   ]
  },
  {
   "cell_type": "markdown",
   "metadata": {
    "id": "b9f4c57a43f6"
   },
   "source": [
    "### Restart runtime (Colab only)\n",
    "\n",
    "To use the newly installed packages, you must restart the runtime on Google Colab."
   ]
  },
  {
   "cell_type": "code",
   "execution_count": 71,
   "metadata": {
    "id": "3b9119a60525"
   },
   "outputs": [],
   "source": [
    "import sys\n",
    "\n",
    "if \"google.colab\" in sys.modules:\n",
    "\n",
    "    import IPython\n",
    "\n",
    "    app = IPython.Application.instance()\n",
    "    app.kernel.do_shutdown(True)"
   ]
  },
  {
   "cell_type": "markdown",
   "metadata": {
    "id": "e767418763cd"
   },
   "source": [
    "<div class=\"alert alert-block alert-warning\">\n",
    "<b>⚠️ The kernel is going to restart. Wait until it's finished before continuing to the next step. ⚠️</b>\n",
    "</div>\n"
   ]
  },
  {
   "cell_type": "markdown",
   "metadata": {
    "id": "6a5bea26f60f"
   },
   "source": [
    "### Authenticate your notebook environment (Colab only)\n",
    "\n",
    "Authenticate your environment on Google Colab.\n"
   ]
  },
  {
   "cell_type": "code",
   "execution_count": 72,
   "metadata": {
    "id": "c97be6a73155"
   },
   "outputs": [],
   "source": [
    "import sys\n",
    "\n",
    "if \"google.colab\" in sys.modules:\n",
    "\n",
    "    from google.colab import auth\n",
    "\n",
    "    auth.authenticate_user()"
   ]
  },
  {
   "cell_type": "markdown",
   "metadata": {
    "id": "2fxZn4SAbxdl"
   },
   "source": [
    "#### Select Claude model"
   ]
  },
  {
   "cell_type": "code",
   "execution_count": 73,
   "metadata": {
    "id": "Y8X70FTSbx7U"
   },
   "outputs": [],
   "source": [
    "MODEL = \"claude-3-5-sonnet-v2@20241022\"  # @param [\"claude-3-5-sonnet-v2@20241022\", \"claude-3-5-haiku@20241022\", \"claude-3-5-sonnet@20240620\", \"claude-3-opus@20240229\", \"claude-3-haiku@20240307\", \"claude-3-sonnet@20240229\" ]\n",
    "if MODEL == \"claude-3-5-sonnet-v2@20241022\":\n",
    "    available_regions = [\"us-east5\", \"europe-west1\"]\n",
    "elif MODEL == \"claude-3-5-haiku@20241022\":\n",
    "    available_regions = [\"us-east5\"]\n",
    "elif MODEL == \"claude-3-5-sonnet@20240620\":\n",
    "    available_regions = [\"us-east5\", \"europe-west1\", \"asia-southeast1\"]\n",
    "elif MODEL == \"claude-3-opus@20240229\":\n",
    "    available_regions = [\"us-east5\"]\n",
    "elif MODEL == \"claude-3-haiku@20240307\":\n",
    "    available_regions = [\"us-east5\", \"europe-west1\", \"asia-southeast1\"]\n",
    "elif MODEL == \"claude-3-sonnet@20240229\":\n",
    "    available_regions = [\"us-east5\"]"
   ]
  },
  {
   "cell_type": "markdown",
   "metadata": {
    "id": "bpuX3sKtexlK"
   },
   "source": [
    "#### Select a location"
   ]
  },
  {
   "cell_type": "code",
   "execution_count": 74,
   "metadata": {
    "colab": {
     "base_uri": "https://localhost:8080/",
     "height": 66,
     "referenced_widgets": [
      "ae49fb6e59954478abaac49b361a4a6a",
      "2f656870fc5b4111b6c4bc591ed23440",
      "445f81a27f8d498ea892780bfed88c68"
     ]
    },
    "id": "dHl8xW45ex_O",
    "outputId": "34efcc99-6580-4be6-91d4-da3cf54404d6"
   },
   "outputs": [
    {
     "data": {
      "application/vnd.jupyter.widget-view+json": {
       "model_id": "1196728d7cdb4988b8b074c987a3242a",
       "version_major": 2,
       "version_minor": 0
      },
      "text/plain": [
       "Dropdown(description='Select a location:', options=('us-east5', 'europe-west1'), style=DescriptionStyle(descri…"
      ]
     },
     "metadata": {},
     "output_type": "display_data"
    }
   ],
   "source": [
    "import ipywidgets as widgets\n",
    "from IPython.display import display\n",
    "\n",
    "dropdown = widgets.Dropdown(\n",
    "    options=available_regions,\n",
    "    description=\"Select a location:\",\n",
    "    font_weight=\"bold\",\n",
    "    style={\"description_width\": \"initial\"},\n",
    ")\n",
    "\n",
    "\n",
    "def dropdown_eventhandler(change):\n",
    "    global LOCATION\n",
    "    if change[\"type\"] == \"change\" and change[\"name\"] == \"value\":\n",
    "        LOCATION = change.new\n",
    "        print(\"Selected:\", change.new)\n",
    "\n",
    "\n",
    "LOCATION = dropdown.value\n",
    "dropdown.observe(dropdown_eventhandler, names=\"value\")\n",
    "display(dropdown)"
   ]
  },
  {
   "cell_type": "markdown",
   "metadata": {
    "id": "3q58icinBjoK"
   },
   "source": [
    "#### Set Google Cloud project and model information\n",
    "\n",
    "To get started using Vertex AI, you must have an existing Google Cloud project and [enable the Vertex AI API](https://console.cloud.google.com/flows/enableapi?apiid=aiplatform.googleapis.com). Learn more about [setting up a project and a development environment](https://cloud.google.com/vertex-ai/docs/start/cloud-environment)."
   ]
  },
  {
   "cell_type": "code",
   "execution_count": null,
   "metadata": {
    "id": "hltNx33t6cSZ"
   },
   "outputs": [
    {
     "name": "stdout",
     "output_type": "stream",
     "text": [
      "https://us-east5-aiplatform.googleapis.com\n"
     ]
    }
   ],
   "source": [
    "PROJECT_ID = \"your-gcp-project\"  # @param {type:\"string\"}\n",
    "ENDPOINT = f\"https://{LOCATION}-aiplatform.googleapis.com\"\n",
    "\n",
    "print (ENDPOINT)\n",
    "if not PROJECT_ID or PROJECT_ID == \"[your-project-id]\":\n",
    "    raise ValueError(\"Please set your PROJECT_ID\")"
   ]
  },
  {
   "cell_type": "markdown",
   "metadata": {
    "id": "4NAstKRFBt4N"
   },
   "source": [
    "#### Import required libraries"
   ]
  },
  {
   "cell_type": "code",
   "execution_count": 76,
   "metadata": {
    "id": "QZEFLE6a6bqy"
   },
   "outputs": [],
   "source": [
    "import base64\n",
    "import json\n",
    "\n",
    "import httpx\n",
    "import requests\n",
    "from IPython.display import Image"
   ]
  },
  {
   "cell_type": "markdown",
   "metadata": {
    "id": "5ahw-uFjCAbo"
   },
   "source": [
    "### Text generation"
   ]
  },
  {
   "cell_type": "markdown",
   "metadata": {
    "id": "61107099357a"
   },
   "source": [
    "#### Unary call\n",
    "\n",
    "Sends a POST request to the specified API endpoint to get a response from the model for a banana bread recipe using the provided payload."
   ]
  },
  {
   "cell_type": "code",
   "execution_count": 77,
   "metadata": {},
   "outputs": [
    {
     "name": "stdout",
     "output_type": "stream",
     "text": [
      "{\"id\":\"msg_vrtx_01Egmggd4iEdrkAwr2v6Hn5h\",\"type\":\"message\",\"role\":\"assistant\",\"model\":\"claude-3-5-sonnet-v2-20241022\",\"content\":[{\"type\":\"text\",\"text\":\"Here's a simple banana bread recipe:\\n\\nIngredients:\\n- 3 ripe bananas, mashed\\n- 1/3 cup melted butter\\n- 1/2 cup sugar\\n- 1 egg\\n- 1 teaspoon vanilla extract\\n- 1 teaspoon baking soda\\n- 1/4 teaspoon salt\\n- 1 1/2 cups all-purpose flour\\n- Optional\"}],\"stop_reason\":\"max_tokens\",\"stop_sequence\":null,\"usage\":{\"input_tokens\":15,\"output_tokens\":100}}\n"
     ]
    },
    {
     "name": "stderr",
     "output_type": "stream",
     "text": [
      "  % Total    % Received % Xferd  Average Speed   Time    Time     Time  Current\n",
      "                                 Dload  Upload   Total   Spent    Left  Speed\n",
      "\n",
      "  0     0    0     0    0     0      0      0 --:--:-- --:--:-- --:--:--     0\n",
      "100   159    0     0  100   159      0    128  0:00:01  0:00:01 --:--:--   129\n",
      "100   661    0   502  100   159    263     83  0:00:01  0:00:01 --:--:--   348\n"
     ]
    }
   ],
   "source": [
    "PAYLOAD = {\n",
    "    \"anthropic_version\": \"vertex-2023-10-16\",\n",
    "    \"messages\": [{\"role\": \"user\", \"content\": \"Send me a recipe for banana bread.\"}],\n",
    "    \"max_tokens\": 100,\n",
    "    \"stream\": False,\n",
    "}\n",
    "\n",
    "request = json.dumps(PAYLOAD).replace('\"', '\\\\\"')  # Escape double quotes\n",
    "access_token = !gcloud auth print-access-token\n",
    "token = access_token[0].strip()\n",
    "\n",
    "!curl -X POST -H \"Authorization: Bearer {token}\" -H \"Content-Type: application/json\" {ENDPOINT}/v1/projects/{PROJECT_ID}/locations/{LOCATION}/publishers/anthropic/models/{MODEL}:rawPredict -d \"{request}\""
   ]
  },
  {
   "cell_type": "markdown",
   "metadata": {
    "id": "e6f52fae9379"
   },
   "source": [
    "#### Streaming call\n",
    "\n",
    "Sends a POST request to the specified API endpoint to stream a response from the model for a banana bread recipe using the provided payload."
   ]
  },
  {
   "cell_type": "code",
   "execution_count": 78,
   "metadata": {},
   "outputs": [],
   "source": [
    "access_token = !gcloud auth print-access-token\n",
    "token = access_token[0].strip()"
   ]
  },
  {
   "cell_type": "code",
   "execution_count": 79,
   "metadata": {},
   "outputs": [
    {
     "name": "stdout",
     "output_type": "stream",
     "text": [
      "event: vertex_event\n",
      "data: {\"type\":\"vertex_event\",\"usage\":{\"input_tokens\":15,\"output_tokens\":2}     }\n",
      "\n",
      "event: message_start\n",
      "data: {\"type\":\"message_start\",\"message\":{\"id\":\"msg_vrtx_01HsYzFCsSEQzRsB3Wc9Vshr\",\"type\":\"message\",\"role\":\"assistant\",\"model\":\"claude-3-5-sonnet-v2-20241022\",\"content\":[],\"stop_reason\":null,\"stop_sequence\":null,\"usage\":{\"input_tokens\":15,\"output_tokens\":2}}}\n",
      "\n",
      "event: ping\n",
      "data: {\"type\": \"ping\"}\n",
      "\n",
      "event: content_block_start\n",
      "data: {\"type\":\"content_block_start\",\"index\":0,\"content_block\":{\"type\":\"text\",\"text\":\"\"}             }\n",
      "\n",
      "event: content_block_delta\n",
      "data: {\"type\":\"content_block_delta\",\"index\":0,\"delta\":{\"type\":\"text_delta\",\"text\":\"Here's\"}      }\n",
      "\n",
      "event: content_block_delta\n",
      "data: {\"type\":\"content_block_delta\",\"index\":0,\"delta\":{\"type\":\"text_delta\",\"text\":\" a simple\"}   }\n",
      "\n",
      "event: content_block_delta\n",
      "data: {\"type\":\"content_block_delta\",\"index\":0,\"delta\":{\"type\":\"text_delta\",\"text\":\" banana\"}       }\n",
      "\n",
      "event: content_block_delta\n",
      "data: {\"type\":\"content_block_delta\",\"index\":0,\"delta\":{\"type\":\"text_delta\",\"text\":\" bread recipe:\"}  }\n",
      "\n",
      "event: content_block_delta\n",
      "data: {\"type\":\"content_block_delta\",\"index\":0,\"delta\":{\"type\":\"text_delta\",\"text\":\"\\n\\nIngredients\"}         }\n",
      "\n",
      "event: content_block_delta\n",
      "data: {\"type\":\"content_block_delta\",\"index\":0,\"delta\":{\"type\":\"text_delta\",\"text\":\":\\n- \"}}\n",
      "\n",
      "event: content_block_delta\n",
      "data: {\"type\":\"content_block_delta\",\"index\":0,\"delta\":{\"type\":\"text_delta\",\"text\":\"3\"}      }\n",
      "\n",
      "event: content_block_delta\n",
      "data: {\"type\":\"content_block_delta\",\"index\":0,\"delta\":{\"type\":\"text_delta\",\"text\":\" ripe ban\"} }\n",
      "\n",
      "event: content_block_delta\n",
      "data: {\"type\":\"content_block_delta\",\"index\":0,\"delta\":{\"type\":\"text_delta\",\"text\":\"anas, mashe\"}           }\n",
      "\n",
      "event: content_block_delta\n",
      "data: {\"type\":\"content_block_delta\",\"index\":0,\"delta\":{\"type\":\"text_delta\",\"text\":\"d\"}    }\n",
      "\n",
      "event: content_block_delta\n",
      "data: {\"type\":\"content_block_delta\",\"index\":0,\"delta\":{\"type\":\"text_delta\",\"text\":\"\\n- 1/\"}       }\n",
      "\n",
      "event: content_block_delta\n",
      "data: {\"type\":\"content_block_delta\",\"index\":0,\"delta\":{\"type\":\"text_delta\",\"text\":\"3\"}             }\n",
      "\n",
      "event: content_block_delta\n",
      "data: {\"type\":\"content_block_delta\",\"index\":0,\"delta\":{\"type\":\"text_delta\",\"text\":\" cup mel\"}         }\n",
      "\n",
      "event: content_block_delta\n",
      "data: {\"type\":\"content_block_delta\",\"index\":0,\"delta\":{\"type\":\"text_delta\",\"text\":\"ted butter\"}             }\n",
      "\n",
      "event: content_block_delta\n",
      "data: {\"type\":\"content_block_delta\",\"index\":0,\"delta\":{\"type\":\"text_delta\",\"text\":\"\\n- 1/\"}             }\n",
      "\n",
      "event: content_block_delta\n",
      "data: {\"type\":\"content_block_delta\",\"index\":0,\"delta\":{\"type\":\"text_delta\",\"text\":\"2 cup sugar\"}   }\n",
      "\n",
      "event: content_block_delta\n",
      "data: {\"type\":\"content_block_delta\",\"index\":0,\"delta\":{\"type\":\"text_delta\",\"text\":\"\\n- 1\"}          }\n",
      "\n",
      "event: content_block_delta\n",
      "data: {\"type\":\"content_block_delta\",\"index\":0,\"delta\":{\"type\":\"text_delta\",\"text\":\" egg\"}}\n",
      "\n",
      "event: content_block_delta\n",
      "data: {\"type\":\"content_block_delta\",\"index\":0,\"delta\":{\"type\":\"text_delta\",\"text\":\"\\n- 1 \"} }\n",
      "\n",
      "event: content_block_delta\n",
      "data: {\"type\":\"content_block_delta\",\"index\":0,\"delta\":{\"type\":\"text_delta\",\"text\":\"teaspoon vanilla\"} }\n",
      "\n",
      "event: content_block_delta\n",
      "data: {\"type\":\"content_block_delta\",\"index\":0,\"delta\":{\"type\":\"text_delta\",\"text\":\" extract\\n- \"}       }\n",
      "\n",
      "event: content_block_delta\n",
      "data: {\"type\":\"content_block_delta\",\"index\":0,\"delta\":{\"type\":\"text_delta\",\"text\":\"1 te\"}       }\n",
      "\n",
      "event: content_block_delta\n",
      "data: {\"type\":\"content_block_delta\",\"index\":0,\"delta\":{\"type\":\"text_delta\",\"text\":\"aspoon baking\"}            }\n",
      "\n",
      "event: content_block_delta\n",
      "data: {\"type\":\"content_block_delta\",\"index\":0,\"delta\":{\"type\":\"text_delta\",\"text\":\" soda\\n-\"}               }\n",
      "\n",
      "event: content_block_delta\n",
      "data: {\"type\":\"content_block_delta\",\"index\":0,\"delta\":{\"type\":\"text_delta\",\"text\":\" 1/4\"}              }\n",
      "\n",
      "event: content_block_delta\n",
      "data: {\"type\":\"content_block_delta\",\"index\":0,\"delta\":{\"type\":\"text_delta\",\"text\":\" teaspoon\"}      }\n",
      "\n",
      "event: content_block_delta\n",
      "data: {\"type\":\"content_block_delta\",\"index\":0,\"delta\":{\"type\":\"text_delta\",\"text\":\" salt\\n- \"}         }\n",
      "\n",
      "event: content_block_delta\n",
      "data: {\"type\":\"content_block_delta\",\"index\":0,\"delta\":{\"type\":\"text_delta\",\"text\":\"1 1\"}            }\n",
      "\n",
      "event: content_block_delta\n",
      "data: {\"type\":\"content_block_delta\",\"index\":0,\"delta\":{\"type\":\"text_delta\",\"text\":\"/2 cups\"}     }\n",
      "\n",
      "event: content_block_delta\n",
      "data: {\"type\":\"content_block_delta\",\"index\":0,\"delta\":{\"type\":\"text_delta\",\"text\":\" all-purpose flour\"}           }\n",
      "\n",
      "event: content_block_delta\n",
      "data: {\"type\":\"content_block_delta\",\"index\":0,\"delta\":{\"type\":\"text_delta\",\"text\":\"\\n- Optional\"}          }\n",
      "\n",
      "event: content_block_stop\n",
      "data: {\"type\":\"content_block_stop\",\"index\":0            }\n",
      "\n",
      "event: vertex_event\n",
      "data: {\"type\":\"vertex_event\",\"usage\":{\"input_tokens\":0,\"output_tokens\":98}   }\n",
      "\n",
      "event: message_delta\n",
      "data: {\"type\":\"message_delta\",\"delta\":{\"stop_reason\":\"max_tokens\",\"stop_sequence\":null},\"usage\":{\"output_tokens\":100}   }\n",
      "\n",
      "event: message_stop\n",
      "data: {\"type\":\"message_stop\"    }\n",
      "\n"
     ]
    },
    {
     "name": "stderr",
     "output_type": "stream",
     "text": [
      "  % Total    % Received % Xferd  Average Speed   Time    Time     Time  Current\n",
      "                                 Dload  Upload   Total   Spent    Left  Speed\n",
      "\n",
      "  0     0    0     0    0     0      0      0 --:--:-- --:--:-- --:--:--     0\n",
      "100   158    0     0  100   158      0    129  0:00:01  0:00:01 --:--:--   130\n",
      "100   808    0   650  100   158    350     85  0:00:01  0:00:01 --:--:--   437\n",
      "100  5133    0  4975  100   158   2678     85  0:00:01  0:00:01 --:--:--  2777\n"
     ]
    }
   ],
   "source": [
    "PAYLOAD = {\n",
    "    \"anthropic_version\": \"vertex-2023-10-16\",\n",
    "    \"messages\": [{\"role\": \"user\", \"content\": \"Send me a recipe for banana bread.\"}],\n",
    "    \"max_tokens\": 100,\n",
    "    \"stream\": True,\n",
    "}\n",
    "\n",
    "request = json.dumps(PAYLOAD).replace('\"', '\\\\\"')  # Escape double quotes\n",
    "\n",
    "!curl -X POST -H \"Authorization: Bearer {token}\" -H \"Content-Type: application/json\" {ENDPOINT}/v1/projects/{PROJECT_ID}/locations/{LOCATION}/publishers/anthropic/models/{MODEL}:rawPredict -d \"{request}\""
   ]
  },
  {
   "cell_type": "code",
   "execution_count": 80,
   "metadata": {
    "colab": {
     "base_uri": "https://localhost:8080/",
     "height": 0
    },
    "id": "c99761dcd7da",
    "outputId": "b3d1b83f-ab64-4f47-de18-52dde1d944eb"
   },
   "outputs": [
    {
     "name": "stdout",
     "output_type": "stream",
     "text": [
      "{\"type\":\"error\",\"error\":{\"type\":\"invalid_request_error\",\"message\":\"The request body is not valid JSON.\"}}\n"
     ]
    },
    {
     "name": "stderr",
     "output_type": "stream",
     "text": [
      "  % Total    % Received % Xferd  Average Speed   Time    Time     Time  Current\n",
      "                                 Dload  Upload   Total   Spent    Left  Speed\n",
      "\n",
      "  0     0    0     0    0     0      0      0 --:--:-- --:--:-- --:--:--     0\n",
      "100   127    0   105  100    22    382     80 --:--:-- --:--:-- --:--:--   472\n",
      "curl: (3) URL rejected: Bad hostname\n",
      "curl: (3) URL rejected: Port number was not a decimal number between 0 and 65535\n",
      "curl: (3) bad range specification in URL position 2:\n",
      "[{\"role\":\n",
      " ^\n"
     ]
    }
   ],
   "source": [
    "PAYLOAD = {\n",
    "    \"anthropic_version\": \"vertex-2023-10-16\",\n",
    "    \"messages\": [{\"role\": \"user\", \"content\": \"Send me a recipe for banana bread.\"}],\n",
    "    \"max_tokens\": 100,\n",
    "    \"stream\": True,\n",
    "}\n",
    "\n",
    "request = json.dumps(PAYLOAD).replace('\"', '\\\\\"')  # Escape double quotes\n",
    "!curl -X POST -H \"Authorization: Bearer {token}\" -H \"Content-Type: application/json\" {ENDPOINT}/v1/projects/{PROJECT_ID}/locations/{LOCATION}/publishers/anthropic/models/{MODEL}:streamRawPredict -d '{request}'"
   ]
  },
  {
   "cell_type": "markdown",
   "metadata": {
    "id": "lfTx9TIKCBHo"
   },
   "source": [
    "### Vision"
   ]
  },
  {
   "cell_type": "markdown",
   "metadata": {
    "id": "3d627efff784"
   },
   "source": [
    "#### Encode And Preview Image\n",
    "\n",
    "We fetch sample images from Wikipedia using the httpx library, but you can use whatever image sources work for you."
   ]
  },
  {
   "cell_type": "code",
   "execution_count": 81,
   "metadata": {
    "colab": {
     "base_uri": "https://localhost:8080/",
     "height": 217
    },
    "id": "7f1954211edf",
    "outputId": "8ebed11a-482a-4ad5-8de4-4e9e87b95eea"
   },
   "outputs": [
    {
     "data": {
      "image/jpeg": "[encoded data removed]",
      "text/plain": [
       "<IPython.core.display.Image object>"
      ]
     },
     "execution_count": 81,
     "metadata": {
      "image/jpeg": {
       "height": 200,
       "width": 300
      }
     },
     "output_type": "execute_result"
    }
   ],
   "source": [
    "image_url = \"https://upload.wikimedia.org/wikipedia/commons/thumb/a/a7/Camponotus_flavomarginatus_ant.jpg/300px-Camponotus_flavomarginatus_ant.jpg\"\n",
    "image_b64 = base64.b64encode(httpx.get(image_url).content).decode(\"utf-8\")\n",
    "\n",
    "response = requests.get(image_url)\n",
    "image = Image(response.content, width=300, height=200)\n",
    "\n",
    "image"
   ]
  },
  {
   "cell_type": "markdown",
   "metadata": {
    "id": "9771877508aa"
   },
   "source": [
    "#### Unary call\n",
    "\n",
    "Sends a POST request to the specified API endpoint to get a response from the model analyzing the content of an image, provided as base64-encoded data, along with the text prompt."
   ]
  },
  {
   "cell_type": "code",
   "execution_count": 82,
   "metadata": {
    "colab": {
     "base_uri": "https://localhost:8080/",
     "height": 0
    },
    "id": "JjrE75TF8Nsn",
    "outputId": "067e7eaa-f759-4cc2-c812-d4ca3e4ca2b1"
   },
   "outputs": [
    {
     "name": "stdout",
     "output_type": "stream",
     "text": [
      "{\"id\":\"msg_vrtx_019VJpD2y4JuxgQx4GHJaZbB\",\"type\":\"message\",\"role\":\"assistant\",\"model\":\"claude-3-5-sonnet-v2-20241022\",\"content\":[{\"type\":\"text\",\"text\":\"This is a close-up macro photograph of an ant. The image captures incredible detail of the ant's body structure, showing its distinctive segmented form, thin legs, and antennae. The ant appears to be in a standing or rearing position, and the photo has a shallow depth of field, creating a soft, blurred background while keeping the ant in sharp focus. The lighting and composition create a dramatic effect that highlights the ant's silhouette and gives a sense of the ins\"}],\"stop_reason\":\"max_tokens\",\"stop_sequence\":null,\"usage\":{\"input_tokens\":105,\"output_tokens\":100}}\n"
     ]
    },
    {
     "name": "stderr",
     "output_type": "stream",
     "text": [
      "  % Total    % Received % Xferd  Average Speed   Time    Time     Time  Current\n",
      "                                 Dload  Upload   Total   Spent    Left  Speed\n",
      "\n",
      "  0     0    0     0    0     0      0      0 --:--:-- --:--:-- --:--:--     0\n",
      "100 16720    0     0  100 16720      0  13613  0:00:01  0:00:01 --:--:-- 13693\n",
      "100 16720    0     0  100 16720      0   7478  0:00:02  0:00:02 --:--:--  7501\n",
      "100 17445    0   725  100 16720    320   7394  0:00:02  0:00:02 --:--:--  7739\n"
     ]
    }
   ],
   "source": [
    "# Create temp file with payload\n",
    "import tempfile\n",
    "\n",
    "PAYLOAD = {\n",
    "    \"anthropic_version\": \"vertex-2023-10-16\",\n",
    "    \"messages\": [{\n",
    "        \"role\": \"user\", \n",
    "        \"content\": [\n",
    "            {\n",
    "                \"type\": \"image\",\n",
    "                \"source\": {\n",
    "                    \"type\": \"base64\",\n",
    "                    \"media_type\": \"image/jpeg\",\n",
    "                    \"data\": image_b64,\n",
    "                }\n",
    "            },\n",
    "            {\"type\": \"text\", \"text\": \"What is in this image?\"}\n",
    "        ]\n",
    "    }],\n",
    "    \"max_tokens\": 100,\n",
    "    \"stream\": False,\n",
    "}\n",
    "\n",
    "# Write payload to temp file\n",
    "with tempfile.NamedTemporaryFile(mode='w', delete=False, suffix='.json') as f:\n",
    "    json.dump(PAYLOAD, f)\n",
    "    temp_file = f.name\n",
    "\n",
    "# Use curl with @filename \n",
    "!curl -X POST -H \"Authorization: Bearer {token}\" -H \"Content-Type: application/json\" {ENDPOINT}/v1/projects/{PROJECT_ID}/locations/{LOCATION}/publishers/anthropic/models/{MODEL}:rawPredict -d @{temp_file}\n",
    "\n",
    "# Clean up\n",
    "import os\n",
    "os.unlink(temp_file)"
   ]
  },
  {
   "cell_type": "markdown",
   "metadata": {
    "id": "2ecd941bf6cc"
   },
   "source": [
    "#### Streaming call\n",
    "\n",
    "Sends a POST request to the specified API endpoint to stream a response from the model analyzing the content of an image, provided as base64-encoded data, along with the text prompt."
   ]
  },
  {
   "cell_type": "code",
   "execution_count": 83,
   "metadata": {
    "colab": {
     "base_uri": "https://localhost:8080/",
     "height": 0
    },
    "id": "59ca7a4e6426",
    "outputId": "e33007b9-9be5-4b32-f37e-74c43105d0fb"
   },
   "outputs": [
    {
     "name": "stdout",
     "output_type": "stream",
     "text": [
      "event: vertex_event\n",
      "data: {\"type\":\"vertex_event\",\"usage\":{\"input_tokens\":105,\"output_tokens\":1}          }\n",
      "\n",
      "event: message_start\n",
      "data: {\"type\":\"message_start\",\"message\":{\"id\":\"msg_vrtx_016r3KJcwRjBZ43dx2mkFLma\",\"type\":\"message\",\"role\":\"assistant\",\"model\":\"claude-3-5-sonnet-v2-20241022\",\"content\":[],\"stop_reason\":null,\"stop_sequence\":null,\"usage\":{\"input_tokens\":105,\"output_tokens\":1}}               }\n",
      "\n",
      "event: ping\n",
      "data: {\"type\": \"ping\"}\n",
      "\n",
      "event: content_block_start\n",
      "data: {\"type\":\"content_block_start\",\"index\":0,\"content_block\":{\"type\":\"text\",\"text\":\"\"}}\n",
      "\n",
      "event: content_block_delta\n",
      "data: {\"type\":\"content_block_delta\",\"index\":0,\"delta\":{\"type\":\"text_delta\",\"text\":\"This\"}         }\n",
      "\n",
      "event: content_block_delta\n",
      "data: {\"type\":\"content_block_delta\",\"index\":0,\"delta\":{\"type\":\"text_delta\",\"text\":\" is\"}   }\n",
      "\n",
      "event: content_block_delta\n",
      "data: {\"type\":\"content_block_delta\",\"index\":0,\"delta\":{\"type\":\"text_delta\",\"text\":\" a\"} }\n",
      "\n",
      "event: content_block_delta\n",
      "data: {\"type\":\"content_block_delta\",\"index\":0,\"delta\":{\"type\":\"text_delta\",\"text\":\" close\"}}\n",
      "\n",
      "event: content_block_delta\n",
      "data: {\"type\":\"content_block_delta\",\"index\":0,\"delta\":{\"type\":\"text_delta\",\"text\":\"-up macro\"}               }\n",
      "\n",
      "event: content_block_delta\n",
      "data: {\"type\":\"content_block_delta\",\"index\":0,\"delta\":{\"type\":\"text_delta\",\"text\":\" photograph\"}    }\n",
      "\n",
      "event: content_block_delta\n",
      "data: {\"type\":\"content_block_delta\",\"index\":0,\"delta\":{\"type\":\"text_delta\",\"text\":\" of an\"}}\n",
      "\n",
      "event: content_block_delta\n",
      "data: {\"type\":\"content_block_delta\",\"index\":0,\"delta\":{\"type\":\"text_delta\",\"text\":\" ant\"}          }\n",
      "\n",
      "event: content_block_delta\n",
      "data: {\"type\":\"content_block_delta\",\"index\":0,\"delta\":{\"type\":\"text_delta\",\"text\":\".\"}  }\n",
      "\n",
      "event: content_block_delta\n",
      "data: {\"type\":\"content_block_delta\",\"index\":0,\"delta\":{\"type\":\"text_delta\",\"text\":\" The\"}       }\n",
      "\n",
      "event: content_block_delta\n",
      "data: {\"type\":\"content_block_delta\",\"index\":0,\"delta\":{\"type\":\"text_delta\",\"text\":\" ant appears to be\"}             }\n",
      "\n",
      "event: content_block_delta\n",
      "data: {\"type\":\"content_block_delta\",\"index\":0,\"delta\":{\"type\":\"text_delta\",\"text\":\" standing\"}     }\n",
      "\n",
      "event: content_block_delta\n",
      "data: {\"type\":\"content_block_delta\",\"index\":0,\"delta\":{\"type\":\"text_delta\",\"text\":\" in\"} }\n",
      "\n",
      "event: content_block_delta\n",
      "data: {\"type\":\"content_block_delta\",\"index\":0,\"delta\":{\"type\":\"text_delta\",\"text\":\" a\"}    }\n",
      "\n",
      "event: content_block_delta\n",
      "data: {\"type\":\"content_block_delta\",\"index\":0,\"delta\":{\"type\":\"text_delta\",\"text\":\" very\"}             }\n",
      "\n",
      "event: content_block_delta\n",
      "data: {\"type\":\"content_block_delta\",\"index\":0,\"delta\":{\"type\":\"text_delta\",\"text\":\" distinctive\"}    }\n",
      "\n",
      "event: content_block_delta\n",
      "data: {\"type\":\"content_block_delta\",\"index\":0,\"delta\":{\"type\":\"text_delta\",\"text\":\" pose with\"}   }\n",
      "\n",
      "event: content_block_delta\n",
      "data: {\"type\":\"content_block_delta\",\"index\":0,\"delta\":{\"type\":\"text_delta\",\"text\":\" its body\"}            }\n",
      "\n",
      "event: content_block_delta\n",
      "data: {\"type\":\"content_block_delta\",\"index\":0,\"delta\":{\"type\":\"text_delta\",\"text\":\" raised up\"}              }\n",
      "\n",
      "event: content_block_delta\n",
      "data: {\"type\":\"content_block_delta\",\"index\":0,\"delta\":{\"type\":\"text_delta\",\"text\":\", showing\"}         }\n",
      "\n",
      "event: content_block_delta\n",
      "data: {\"type\":\"content_block_delta\",\"index\":0,\"delta\":{\"type\":\"text_delta\",\"text\":\" off its seg\"}   }\n",
      "\n",
      "event: content_block_delta\n",
      "data: {\"type\":\"content_block_delta\",\"index\":0,\"delta\":{\"type\":\"text_delta\",\"text\":\"mented body\"}          }\n",
      "\n",
      "event: content_block_delta\n",
      "data: {\"type\":\"content_block_delta\",\"index\":0,\"delta\":{\"type\":\"text_delta\",\"text\":\",\"}     }\n",
      "\n",
      "event: content_block_delta\n",
      "data: {\"type\":\"content_block_delta\",\"index\":0,\"delta\":{\"type\":\"text_delta\",\"text\":\" thin\"}    }\n",
      "\n",
      "event: content_block_delta\n",
      "data: {\"type\":\"content_block_delta\",\"index\":0,\"delta\":{\"type\":\"text_delta\",\"text\":\" legs\"}  }\n",
      "\n",
      "event: content_block_delta\n",
      "data: {\"type\":\"content_block_delta\",\"index\":0,\"delta\":{\"type\":\"text_delta\",\"text\":\", and ant\"}             }\n",
      "\n",
      "event: content_block_delta\n",
      "data: {\"type\":\"content_block_delta\",\"index\":0,\"delta\":{\"type\":\"text_delta\",\"text\":\"ennae. The\"}              }\n",
      "\n",
      "event: content_block_delta\n",
      "data: {\"type\":\"content_block_delta\",\"index\":0,\"delta\":{\"type\":\"text_delta\",\"text\":\" image has\"}         }\n",
      "\n",
      "event: content_block_delta\n",
      "data: {\"type\":\"content_block_delta\",\"index\":0,\"delta\":{\"type\":\"text_delta\",\"text\":\" a\"}      }\n",
      "\n",
      "event: content_block_delta\n",
      "data: {\"type\":\"content_block_delta\",\"index\":0,\"delta\":{\"type\":\"text_delta\",\"text\":\" shallow\"}       }\n",
      "\n",
      "event: content_block_delta\n",
      "data: {\"type\":\"content_block_delta\",\"index\":0,\"delta\":{\"type\":\"text_delta\",\"text\":\" depth of field,\"}        }\n",
      "\n",
      "event: content_block_delta\n",
      "data: {\"type\":\"content_block_delta\",\"index\":0,\"delta\":{\"type\":\"text_delta\",\"text\":\" creating\"} }\n",
      "\n",
      "event: content_block_delta\n",
      "data: {\"type\":\"content_block_delta\",\"index\":0,\"delta\":{\"type\":\"text_delta\",\"text\":\" a soft\"}            }\n",
      "\n",
      "event: content_block_delta\n",
      "data: {\"type\":\"content_block_delta\",\"index\":0,\"delta\":{\"type\":\"text_delta\",\"text\":\",\"}         }\n",
      "\n",
      "event: content_block_delta\n",
      "data: {\"type\":\"content_block_delta\",\"index\":0,\"delta\":{\"type\":\"text_delta\",\"text\":\" blurred background while\"}               }\n",
      "\n",
      "event: content_block_delta\n",
      "data: {\"type\":\"content_block_delta\",\"index\":0,\"delta\":{\"type\":\"text_delta\",\"text\":\" keeping the ant in\"}         }\n",
      "\n",
      "event: content_block_delta\n",
      "data: {\"type\":\"content_block_delta\",\"index\":0,\"delta\":{\"type\":\"text_delta\",\"text\":\" sharp focus. The\"}    }\n",
      "\n",
      "event: content_block_delta\n",
      "data: {\"type\":\"content_block_delta\",\"index\":0,\"delta\":{\"type\":\"text_delta\",\"text\":\" ant's\"} }\n",
      "\n",
      "event: content_block_delta\n",
      "data: {\"type\":\"content_block_delta\",\"index\":0,\"delta\":{\"type\":\"text_delta\",\"text\":\" sil\"}         }\n",
      "\n",
      "event: content_block_delta\n",
      "data: {\"type\":\"content_block_delta\",\"index\":0,\"delta\":{\"type\":\"text_delta\",\"text\":\"houette is\"}              }\n",
      "\n",
      "event: content_block_delta\n",
      "data: {\"type\":\"content_block_delta\",\"index\":0,\"delta\":{\"type\":\"text_delta\",\"text\":\" very\"}           }\n",
      "\n",
      "event: content_block_delta\n",
      "data: {\"type\":\"content_block_delta\",\"index\":0,\"delta\":{\"type\":\"text_delta\",\"text\":\" clear against the neutral\"}         }\n",
      "\n",
      "event: content_block_delta\n",
      "data: {\"type\":\"content_block_delta\",\"index\":0,\"delta\":{\"type\":\"text_delta\",\"text\":\" background,\"}          }\n",
      "\n",
      "event: content_block_delta\n",
      "data: {\"type\":\"content_block_delta\",\"index\":0,\"delta\":{\"type\":\"text_delta\",\"text\":\" and you\"}    }\n",
      "\n",
      "event: content_block_delta\n",
      "data: {\"type\":\"content_block_delta\",\"index\":0,\"delta\":{\"type\":\"text_delta\",\"text\":\" can see fine details\"}          }\n",
      "\n",
      "event: content_block_delta\n",
      "data: {\"type\":\"content_block_delta\",\"index\":0,\"delta\":{\"type\":\"text_delta\",\"text\":\" of\"}              }\n",
      "\n",
      "event: content_block_delta\n",
      "data: {\"type\":\"content_block_delta\",\"index\":0,\"delta\":{\"type\":\"text_delta\",\"text\":\" its anatomy\"}     }\n",
      "\n",
      "event: content_block_delta\n",
      "data: {\"type\":\"content_block_delta\",\"index\":0,\"delta\":{\"type\":\"text_delta\",\"text\":\" including\"}         }\n",
      "\n",
      "event: content_block_delta\n",
      "data: {\"type\":\"content_block_delta\",\"index\":0,\"delta\":{\"type\":\"text_delta\",\"text\":\" its thor\"}}\n",
      "\n",
      "event: content_block_delta\n",
      "data: {\"type\":\"content_block_delta\",\"index\":0,\"delta\":{\"type\":\"text_delta\",\"text\":\"ax, abdomen\"}  }\n",
      "\n",
      "event: content_block_delta\n",
      "data: {\"type\":\"content_block_delta\",\"index\":0,\"delta\":{\"type\":\"text_delta\",\"text\":\", an\"}         }\n",
      "\n",
      "event: content_block_stop\n",
      "data: {\"type\":\"content_block_stop\",\"index\":0             }\n",
      "\n",
      "event: vertex_event\n",
      "data: {\"type\":\"vertex_event\",\"usage\":{\"input_tokens\":0,\"output_tokens\":99}      }\n",
      "\n",
      "event: message_delta\n",
      "data: {\"type\":\"message_delta\",\"delta\":{\"stop_reason\":\"max_tokens\",\"stop_sequence\":null},\"usage\":{\"output_tokens\":100}        }\n",
      "\n",
      "event: message_stop\n",
      "data: {\"type\":\"message_stop\"     }\n",
      "\n"
     ]
    },
    {
     "name": "stderr",
     "output_type": "stream",
     "text": [
      "  % Total    % Received % Xferd  Average Speed   Time    Time     Time  Current\n",
      "                                 Dload  Upload   Total   Spent    Left  Speed\n",
      "\n",
      "  0     0    0     0    0     0      0      0 --:--:-- --:--:-- --:--:--     0\n",
      "100 16719    0     0  100 16719      0  13522  0:00:01  0:00:01 --:--:-- 13581\n",
      "100 17369    0   650  100 16719    321   8275  0:00:02  0:00:02 --:--:--  8619\n",
      "100 24348    0  7629  100 16719   3771   8266  0:00:02  0:00:02 --:--:-- 12071\n"
     ]
    }
   ],
   "source": [
    "# Create temp file with payload\n",
    "import tempfile\n",
    "\n",
    "PAYLOAD = {\n",
    "    \"anthropic_version\": \"vertex-2023-10-16\",\n",
    "    \"messages\": [{\n",
    "        \"role\": \"user\", \n",
    "        \"content\": [\n",
    "            {\n",
    "                \"type\": \"image\",\n",
    "                \"source\": {\n",
    "                    \"type\": \"base64\",\n",
    "                    \"media_type\": \"image/jpeg\",\n",
    "                    \"data\": image_b64,\n",
    "                }\n",
    "            },\n",
    "            {\"type\": \"text\", \"text\": \"What is in this image?\"}\n",
    "        ]\n",
    "    }],\n",
    "    \"max_tokens\": 100,\n",
    "    \"stream\": True,\n",
    "}\n",
    "\n",
    "# Write payload to temp file\n",
    "with tempfile.NamedTemporaryFile(mode='w', delete=False, suffix='.json') as f:\n",
    "    json.dump(PAYLOAD, f)\n",
    "    temp_file = f.name\n",
    "\n",
    "# Use curl with @filename \n",
    "!curl -X POST -H \"Authorization: Bearer {token}\" -H \"Content-Type: application/json\" {ENDPOINT}/v1/projects/{PROJECT_ID}/locations/{LOCATION}/publishers/anthropic/models/{MODEL}:rawPredict -d @{temp_file}\n",
    "\n",
    "# Clean up\n",
    "import os\n",
    "os.unlink(temp_file)"
   ]
  },
  {
   "cell_type": "markdown",
   "metadata": {
    "id": "gI3KlxQQ_F_T"
   },
   "source": [
    "## Using Anthropic's Vertex SDK for *Python*"
   ]
  },
  {
   "cell_type": "markdown",
   "metadata": {
    "id": "E0x3GO6M_O3_"
   },
   "source": [
    "## Get Started\n"
   ]
  },
  {
   "cell_type": "markdown",
   "metadata": {
    "id": "_CJrqUvqAfR7"
   },
   "source": [
    "### Install Anthropic's Vertex SDK for Python and other required packages"
   ]
  },
  {
   "cell_type": "code",
   "execution_count": 84,
   "metadata": {
    "colab": {
     "base_uri": "https://localhost:8080/",
     "height": 0
    },
    "id": "fi_HLdat_Pce",
    "outputId": "9573feca-e06b-488b-9597-40ad7fa2fc7e"
   },
   "outputs": [],
   "source": [
    "!pip install -U -q \"anthropic[vertex]\"\n",
    "!pip install -U -q httpx"
   ]
  },
  {
   "cell_type": "markdown",
   "metadata": {
    "id": "hUiAYUFbBCpR"
   },
   "source": [
    "### Restart runtime (Colab only)\n",
    "\n",
    "To use the newly installed packages, you must restart the runtime on Google Colab."
   ]
  },
  {
   "cell_type": "code",
   "execution_count": 85,
   "metadata": {
    "id": "jcqgcj_DBFgt"
   },
   "outputs": [],
   "source": [
    "# Restart kernel after installs so that your environment can access the new packages\n",
    "import sys\n",
    "\n",
    "if \"google.colab\" in sys.modules:\n",
    "    import IPython\n",
    "\n",
    "    app = IPython.Application.instance()\n",
    "    app.kernel.do_shutdown(True)"
   ]
  },
  {
   "cell_type": "markdown",
   "metadata": {
    "id": "aa9169957a89"
   },
   "source": [
    "<div class=\"alert alert-block alert-warning\">\n",
    "<b>⚠️ The kernel is going to restart. Wait until it's finished before continuing to the next step. ⚠️</b>\n",
    "</div>\n"
   ]
  },
  {
   "cell_type": "markdown",
   "metadata": {
    "id": "bffc70d3e8be"
   },
   "source": [
    "### Authenticate your notebook environment (Colab only)\n",
    "\n",
    "Authenticate your environment on Google Colab.\n"
   ]
  },
  {
   "cell_type": "code",
   "execution_count": 86,
   "metadata": {
    "id": "d1baa068f48a"
   },
   "outputs": [],
   "source": [
    "import sys\n",
    "\n",
    "if \"google.colab\" in sys.modules:\n",
    "\n",
    "    from google.colab import auth\n",
    "\n",
    "    auth.authenticate_user()"
   ]
  },
  {
   "cell_type": "markdown",
   "metadata": {
    "id": "czcmJpKPBMVC"
   },
   "source": [
    "#### Select Claude model"
   ]
  },
  {
   "cell_type": "code",
   "execution_count": 87,
   "metadata": {
    "id": "s6SJn92__jpy"
   },
   "outputs": [],
   "source": [
    "MODEL = \"claude-3-5-sonnet-v2@20241022\"  # @param [\"claude-3-5-sonnet-v2@20241022\", \"claude-3-5-haiku@20241022\", \"claude-3-5-sonnet@20240620\", \"claude-3-opus@20240229\", \"claude-3-haiku@20240307\", \"claude-3-sonnet@20240229\" ]\n",
    "if MODEL == \"claude-3-5-sonnet-v2@20241022\":\n",
    "    available_regions = [\"us-east5\", \"europe-west1\"]\n",
    "elif MODEL == \"claude-3-5-haiku@20241022\":\n",
    "    available_regions = [\"us-east5\"]\n",
    "elif MODEL == \"claude-3-5-sonnet@20240620\":\n",
    "    available_regions = [\"us-east5\", \"europe-west1\", \"asia-southeast1\"]\n",
    "elif MODEL == \"claude-3-opus@20240229\":\n",
    "    available_regions = [\"us-east5\"]\n",
    "elif MODEL == \"claude-3-haiku@20240307\":\n",
    "    available_regions = [\"us-east5\", \"europe-west1\", \"asia-southeast1\"]\n",
    "elif MODEL == \"claude-3-sonnet@20240229\":\n",
    "    available_regions = [\"us-east5\"]"
   ]
  },
  {
   "cell_type": "markdown",
   "metadata": {
    "id": "C-z0epNze9k8"
   },
   "source": [
    "#### Select a region"
   ]
  },
  {
   "cell_type": "code",
   "execution_count": 88,
   "metadata": {
    "colab": {
     "base_uri": "https://localhost:8080/",
     "height": 49,
     "referenced_widgets": [
      "94ce7d975ed34e818d9882e6db8e6125",
      "79edf425ca4d4923a2e4e8019436ff21",
      "87daf14dc5bb4bb2a1dc941695cc3e84"
     ]
    },
    "id": "u4ciYLdLe-D-",
    "outputId": "fa76b3f8-2fd7-40e0-8e4c-635ebef78183"
   },
   "outputs": [
    {
     "data": {
      "application/vnd.jupyter.widget-view+json": {
       "model_id": "8d589c7bd98342d8b21f0e42a6baeffc",
       "version_major": 2,
       "version_minor": 0
      },
      "text/plain": [
       "Dropdown(description='Select a location:', options=('us-east5', 'europe-west1'), style=DescriptionStyle(descri…"
      ]
     },
     "metadata": {},
     "output_type": "display_data"
    }
   ],
   "source": [
    "import ipywidgets as widgets\n",
    "from IPython.display import display\n",
    "\n",
    "dropdown = widgets.Dropdown(\n",
    "    options=available_regions,\n",
    "    description=\"Select a location:\",\n",
    "    font_weight=\"bold\",\n",
    "    style={\"description_width\": \"initial\"},\n",
    ")\n",
    "\n",
    "\n",
    "def dropdown_eventhandler(change):\n",
    "    global LOCATION\n",
    "    if change[\"type\"] == \"change\" and change[\"name\"] == \"value\":\n",
    "        LOCATION = change.new\n",
    "        print(\"Selected:\", change.new)\n",
    "\n",
    "\n",
    "LOCATION = dropdown.value\n",
    "dropdown.observe(dropdown_eventhandler, names=\"value\")\n",
    "display(dropdown)"
   ]
  },
  {
   "cell_type": "markdown",
   "metadata": {
    "id": "shZgRl6qbZYP"
   },
   "source": [
    "#### Set Google Cloud project and model information\n",
    "\n",
    "To get started using Vertex AI, you must have an existing Google Cloud project and [enable the Vertex AI API](https://console.cloud.google.com/flows/enableapi?apiid=aiplatform.googleapis.com). Learn more about [setting up a project and a development environment](https://cloud.google.com/vertex-ai/docs/start/cloud-environment)."
   ]
  },
  {
   "cell_type": "code",
   "execution_count": null,
   "metadata": {
    "id": "JZLqMJ6va9fc"
   },
   "outputs": [],
   "source": [
    "PROJECT_ID = \"your-gcp-project\"  # @param {type:\"string\"}\n",
    "ENDPOINT = f\"https://{LOCATION}-aiplatform.googleapis.com\"\n",
    "\n",
    "if not PROJECT_ID or PROJECT_ID == \"[your-project-id]\":\n",
    "    raise ValueError(\"Please set your PROJECT_ID\")"
   ]
  },
  {
   "cell_type": "markdown",
   "metadata": {
    "id": "a6a543c2cd07"
   },
   "source": [
    "#### Import required libraries"
   ]
  },
  {
   "cell_type": "code",
   "execution_count": 90,
   "metadata": {
    "id": "c4a553b6a5c2"
   },
   "outputs": [],
   "source": [
    "import base64\n",
    "\n",
    "import httpx\n",
    "import requests\n",
    "from IPython.display import Image"
   ]
  },
  {
   "cell_type": "markdown",
   "metadata": {
    "id": "gijJ2vr5B5nV"
   },
   "source": [
    "### Text generation"
   ]
  },
  {
   "cell_type": "markdown",
   "metadata": {
    "id": "2f7ee8ceb620"
   },
   "source": [
    "#### Unary call\n",
    "\n",
    "Initializes a client for Anthropic's Vertex AI, sends a request to generate the content, and prints the response in a formatted JSON"
   ]
  },
  {
   "cell_type": "code",
   "execution_count": 91,
   "metadata": {
    "colab": {
     "base_uri": "https://localhost:8080/",
     "height": 0
    },
    "id": "c2c03d3da1b0",
    "outputId": "ef34195c-9b3b-4b4b-be9b-ea9f8de11ae9"
   },
   "outputs": [
    {
     "name": "stdout",
     "output_type": "stream",
     "text": [
      "{\n",
      "  \"id\": \"msg_vrtx_01PDVYS3g6C3pHYKGDyjTprm\",\n",
      "  \"content\": [\n",
      "    {\n",
      "      \"text\": \"Here's a classic banana bread recipe:\\n\\nIngredients:\\n- 3 ripe bananas, mashed\\n- ⅓ cup melted butter\\n- ½ cup sugar\\n- 1 egg\\n- 1 teaspoon vanilla extract\\n- 1 teaspoon baking soda\\n- ¼ teaspoon salt\\n- 1½ cups all-purpose flour\\n- Optional: ½ cup chopped nuts or chocolate chips\\n\\nInstructions:\\n1. Preheat oven to 350°F (175°C). Grease a 4x8-inch loaf pan.\\n\\n2. In a large bowl, mash the ripe bananas with a fork.\\n\\n3. Mix in the melted butter.\\n\\n4. Stir in the sugar, egg, and vanilla extract.\\n\\n5. Sprinkle the baking soda and salt over the mixture and stir in.\\n\\n6. Add the flour and mix until just combined. Don't overmix.\\n\\n7. Fold in nuts or chocolate chips if using.\\n\\n8. Pour batter into prepared loaf pan.\\n\\n9. Bake for 50-60 minutes, or until a toothpick inserted into the center comes out clean.\\n\\n10. Let cool in the pan for a few minutes, then remove and cool completely on a wire rack.\\n\\nEnjoy your homemade banana bread!\\n\\nNote: Store in an airtight container for up to 3 days, or freeze for up to 3 months.\",\n",
      "      \"type\": \"text\"\n",
      "    }\n",
      "  ],\n",
      "  \"model\": \"claude-3-5-sonnet-v2-20241022\",\n",
      "  \"role\": \"assistant\",\n",
      "  \"stop_reason\": \"end_turn\",\n",
      "  \"stop_sequence\": null,\n",
      "  \"type\": \"message\",\n",
      "  \"usage\": {\n",
      "    \"input_tokens\": 15,\n",
      "    \"output_tokens\": 344\n",
      "  }\n",
      "}\n"
     ]
    }
   ],
   "source": [
    "from anthropic import AnthropicVertex\n",
    "\n",
    "client = AnthropicVertex(region=LOCATION, project_id=PROJECT_ID)\n",
    "message = client.messages.create(\n",
    "    max_tokens=1024,\n",
    "    messages=[\n",
    "        {\n",
    "            \"role\": \"user\",\n",
    "            \"content\": \"Send me a recipe for banana bread.\",\n",
    "        }\n",
    "    ],\n",
    "    model=MODEL,\n",
    ")\n",
    "print(message.model_dump_json(indent=2))"
   ]
  },
  {
   "cell_type": "markdown",
   "metadata": {
    "id": "f8e56a2fb209"
   },
   "source": [
    "#### Streaming call\n",
    "\n",
    "Initializes a client for Anthropic's Vertex AI, sends a streaming request to generate the content, and continuously prints the received text as it is streamed."
   ]
  },
  {
   "cell_type": "code",
   "execution_count": 92,
   "metadata": {
    "colab": {
     "base_uri": "https://localhost:8080/",
     "height": 0
    },
    "id": "KedVqBW9_2m_",
    "outputId": "faefbaf9-3010-4378-a0ed-bba2737efff6"
   },
   "outputs": [
    {
     "name": "stdout",
     "output_type": "stream",
     "text": [
      "Here's a simple banana bread recipe:\n",
      "\n",
      "INGREDIENTS:\n",
      "- 3 ripe bananas, mashed\n",
      "- 1/3 cup melted butter\n",
      "- 1/2 cup sugar\n",
      "- 1 egg\n",
      "- 1 teaspoon vanilla extract\n",
      "- 1 teaspoon baking soda\n",
      "- 1/4 teaspoon salt\n",
      "- 1 1/2 cups all-purpose flour\n",
      "- Optional: 1/2 cup chopped nuts or chocolate chips\n",
      "\n",
      "INSTRUCTIONS:\n",
      "\n",
      "1. Preheat oven to 350°F (175°C). Grease a 4x8-inch loaf pan.\n",
      "\n",
      "2. In a large bowl, mash the ripe bananas with a fork.\n",
      "\n",
      "3. Mix in the melted butter.\n",
      "\n",
      "4. Stir in the sugar, egg, and vanilla extract.\n",
      "\n",
      "5. Sprinkle baking soda and salt over the mixture.\n",
      "\n",
      "6. Add flour and mix until just combined (don't overmix).\n",
      "\n",
      "7. Fold in nuts or chocolate chips if using.\n",
      "\n",
      "8. Pour batter into prepared loaf pan.\n",
      "\n",
      "9. Bake for 50-60 minutes, or until a toothpick inserted into the center comes out clean.\n",
      "\n",
      "10. Let cool in the pan for a few minutes, then remove and cool completely on a wire rack.\n",
      "\n",
      "Enjoy your homemade banana bread!"
     ]
    }
   ],
   "source": [
    "from anthropic import AnthropicVertex\n",
    "\n",
    "client = AnthropicVertex(region=LOCATION, project_id=PROJECT_ID)\n",
    "\n",
    "with client.messages.stream(\n",
    "    max_tokens=1024,\n",
    "    messages=[\n",
    "        {\n",
    "            \"role\": \"user\",\n",
    "            \"content\": \"Send me a recipe for banana bread.\",\n",
    "        }\n",
    "    ],\n",
    "    model=MODEL,\n",
    ") as stream:\n",
    "    for text in stream.text_stream:\n",
    "        print(text, end=\"\", flush=True)"
   ]
  },
  {
   "cell_type": "markdown",
   "metadata": {
    "id": "CysN0InWCKN4"
   },
   "source": [
    "### Vision"
   ]
  },
  {
   "cell_type": "markdown",
   "metadata": {
    "id": "2fe57432a56d"
   },
   "source": [
    "#### Encode And Preview Image\n",
    "\n",
    "We fetch sample images from Wikipedia using the httpx library, but you can use whatever image sources work for you."
   ]
  },
  {
   "cell_type": "code",
   "execution_count": 93,
   "metadata": {
    "colab": {
     "base_uri": "https://localhost:8080/",
     "height": 217
    },
    "id": "8437abc38965",
    "outputId": "56c21af1-1a18-41d3-f240-d72e3248204e"
   },
   "outputs": [
    {
     "data": {
      "image/jpeg": "[encoded data removed]",
      "text/plain": [
       "<IPython.core.display.Image object>"
      ]
     },
     "execution_count": 93,
     "metadata": {
      "image/jpeg": {
       "height": 200,
       "width": 300
      }
     },
     "output_type": "execute_result"
    }
   ],
   "source": [
    "image_url = \"https://upload.wikimedia.org/wikipedia/commons/thumb/a/a7/Camponotus_flavomarginatus_ant.jpg/300px-Camponotus_flavomarginatus_ant.jpg\"\n",
    "image_media_type = \"image/jpeg\"\n",
    "image_b64 = base64.b64encode(httpx.get(image_url).content).decode(\"utf-8\")\n",
    "\n",
    "response = requests.get(image_url)\n",
    "image = Image(response.content, width=300, height=200)\n",
    "\n",
    "image"
   ]
  },
  {
   "cell_type": "markdown",
   "metadata": {
    "id": "9fd5937f839b"
   },
   "source": [
    "#### Unary call\n",
    "\n",
    "Initializes a client for Anthropic's Vertex AI, sends a request to describe an image (provided as base64-encoded data) along with a text prompt, and prints the response in a formatted JSON."
   ]
  },
  {
   "cell_type": "code",
   "execution_count": 94,
   "metadata": {
    "colab": {
     "base_uri": "https://localhost:8080/",
     "height": 0
    },
    "id": "8hTk6_Ju_3rj",
    "outputId": "836fddf2-4320-4da6-fd1a-88cdf6912c84"
   },
   "outputs": [
    {
     "name": "stdout",
     "output_type": "stream",
     "text": [
      "{\n",
      "  \"id\": \"msg_vrtx_01XSCh37b5N1uNVdByNxv3Ch\",\n",
      "  \"content\": [\n",
      "    {\n",
      "      \"text\": \"This is a detailed macro photograph of an ant in profile view. The ant appears to be in a standing or rearing position, with its legs clearly visible and distinct against a blurred, warm-toned background. The image captures incredible detail of the ant's segmented body, including its thorax, abdomen, and delicate antennae. The lighting creates a beautiful silhouette effect, emphasizing the ant's characteristic form and slender body structure. The photograph has a shallow depth of field, which helps isolate the ant from the background and creates an artistic, professional quality to the image.\",\n",
      "      \"type\": \"text\"\n",
      "    }\n",
      "  ],\n",
      "  \"model\": \"claude-3-5-sonnet-v2-20241022\",\n",
      "  \"role\": \"assistant\",\n",
      "  \"stop_reason\": \"end_turn\",\n",
      "  \"stop_sequence\": null,\n",
      "  \"type\": \"message\",\n",
      "  \"usage\": {\n",
      "    \"input_tokens\": 104,\n",
      "    \"output_tokens\": 127\n",
      "  }\n",
      "}\n"
     ]
    }
   ],
   "source": [
    "from anthropic import AnthropicVertex\n",
    "\n",
    "client = AnthropicVertex(region=LOCATION, project_id=PROJECT_ID)\n",
    "\n",
    "message = client.messages.create(\n",
    "    max_tokens=1024,\n",
    "    messages=[\n",
    "        {\n",
    "            \"role\": \"user\",\n",
    "            \"content\": [\n",
    "                {\n",
    "                    \"type\": \"image\",\n",
    "                    \"source\": {\n",
    "                        \"type\": \"base64\",\n",
    "                        \"media_type\": image_media_type,\n",
    "                        \"data\": image_b64,\n",
    "                    },\n",
    "                },\n",
    "                {\"type\": \"text\", \"text\": \"Describe this image.\"},\n",
    "            ],\n",
    "        }\n",
    "    ],\n",
    "    model=MODEL,\n",
    ")\n",
    "print(message.model_dump_json(indent=2))"
   ]
  },
  {
   "cell_type": "markdown",
   "metadata": {
    "id": "1fb4855047e3"
   },
   "source": [
    "#### Streaming call\n",
    "\n",
    "Initializes a client for Anthropic's Vertex AI, sends a streaming request to describe an image (provided as base64-encoded data) along with a text prompt, and continuously prints the received text as it is streamed."
   ]
  },
  {
   "cell_type": "code",
   "execution_count": 95,
   "metadata": {
    "colab": {
     "base_uri": "https://localhost:8080/",
     "height": 0
    },
    "id": "6df4d0e6d95b",
    "outputId": "aa689ac1-3f4f-46ee-991b-8c3b16e293aa"
   },
   "outputs": [
    {
     "name": "stdout",
     "output_type": "stream",
     "text": [
      "This is a detailed macro photograph of an ant, captured in profile view. The ant appears to be standing on a textured surface, possibly stone or concrete. The image beautifully captures the ant's distinct body segments, including its slender legs, thorax, and antenna. The background is softly blurred with warm reddish tones, creating a pleasing bokeh effect that makes the ant's silhouette stand out dramatically. The lighting and close-up perspective allow you to see fine details of the ant's exoskeleton and its characteristic ant posture. This is the kind of photograph that helps us appreciate the intricate details of these small insects that we might otherwise miss with the naked eye."
     ]
    }
   ],
   "source": [
    "from anthropic import AnthropicVertex\n",
    "\n",
    "client = AnthropicVertex(region=LOCATION, project_id=PROJECT_ID)\n",
    "\n",
    "with client.messages.stream(\n",
    "    max_tokens=1024,\n",
    "    messages=[\n",
    "        {\n",
    "            \"role\": \"user\",\n",
    "            \"content\": [\n",
    "                {\n",
    "                    \"type\": \"image\",\n",
    "                    \"source\": {\n",
    "                        \"type\": \"base64\",\n",
    "                        \"media_type\": image_media_type,\n",
    "                        \"data\": image_b64,\n",
    "                    },\n",
    "                },\n",
    "                {\"type\": \"text\", \"text\": \"Describe this image.\"},\n",
    "            ],\n",
    "        }\n",
    "    ],\n",
    "    model=MODEL,\n",
    ") as stream:\n",
    "    for text in stream.text_stream:\n",
    "        print(text, end=\"\", flush=True)"
   ]
  }
 ],
 "metadata": {
  "colab": {
   "provenance": []
  },
  "kernelspec": {
   "display_name": "Python 3",
   "name": "python3"
  },
  "language_info": {
   "codemirror_mode": {
    "name": "ipython",
    "version": 3
   },
   "file_extension": ".py",
   "mimetype": "text/x-python",
   "name": "python",
   "nbconvert_exporter": "python",
   "pygments_lexer": "ipython3",
   "version": "3.11.4"
  },
  "widgets": {
   "application/vnd.jupyter.widget-state+json": {
    "2f656870fc5b4111b6c4bc591ed23440": {
     "model_module": "@jupyter-widgets/base",
     "model_module_version": "1.2.0",
     "model_name": "LayoutModel",
     "state": {
      "_model_module": "@jupyter-widgets/base",
      "_model_module_version": "1.2.0",
      "_model_name": "LayoutModel",
      "_view_count": null,
      "_view_module": "@jupyter-widgets/base",
      "_view_module_version": "1.2.0",
      "_view_name": "LayoutView",
      "align_content": null,
      "align_items": null,
      "align_self": null,
      "border": null,
      "bottom": null,
      "display": null,
      "flex": null,
      "flex_flow": null,
      "grid_area": null,
      "grid_auto_columns": null,
      "grid_auto_flow": null,
      "grid_auto_rows": null,
      "grid_column": null,
      "grid_gap": null,
      "grid_row": null,
      "grid_template_areas": null,
      "grid_template_columns": null,
      "grid_template_rows": null,
      "height": null,
      "justify_content": null,
      "justify_items": null,
      "left": null,
      "margin": null,
      "max_height": null,
      "max_width": null,
      "min_height": null,
      "min_width": null,
      "object_fit": null,
      "object_position": null,
      "order": null,
      "overflow": null,
      "overflow_x": null,
      "overflow_y": null,
      "padding": null,
      "right": null,
      "top": null,
      "visibility": null,
      "width": null
     }
    },
    "445f81a27f8d498ea892780bfed88c68": {
     "model_module": "@jupyter-widgets/controls",
     "model_module_version": "1.5.0",
     "model_name": "DescriptionStyleModel",
     "state": {
      "_model_module": "@jupyter-widgets/controls",
      "_model_module_version": "1.5.0",
      "_model_name": "DescriptionStyleModel",
      "_view_count": null,
      "_view_module": "@jupyter-widgets/base",
      "_view_module_version": "1.2.0",
      "_view_name": "StyleView",
      "description_width": "initial"
     }
    },
    "79edf425ca4d4923a2e4e8019436ff21": {
     "model_module": "@jupyter-widgets/base",
     "model_module_version": "1.2.0",
     "model_name": "LayoutModel",
     "state": {
      "_model_module": "@jupyter-widgets/base",
      "_model_module_version": "1.2.0",
      "_model_name": "LayoutModel",
      "_view_count": null,
      "_view_module": "@jupyter-widgets/base",
      "_view_module_version": "1.2.0",
      "_view_name": "LayoutView",
      "align_content": null,
      "align_items": null,
      "align_self": null,
      "border": null,
      "bottom": null,
      "display": null,
      "flex": null,
      "flex_flow": null,
      "grid_area": null,
      "grid_auto_columns": null,
      "grid_auto_flow": null,
      "grid_auto_rows": null,
      "grid_column": null,
      "grid_gap": null,
      "grid_row": null,
      "grid_template_areas": null,
      "grid_template_columns": null,
      "grid_template_rows": null,
      "height": null,
      "justify_content": null,
      "justify_items": null,
      "left": null,
      "margin": null,
      "max_height": null,
      "max_width": null,
      "min_height": null,
      "min_width": null,
      "object_fit": null,
      "object_position": null,
      "order": null,
      "overflow": null,
      "overflow_x": null,
      "overflow_y": null,
      "padding": null,
      "right": null,
      "top": null,
      "visibility": null,
      "width": null
     }
    },
    "87daf14dc5bb4bb2a1dc941695cc3e84": {
     "model_module": "@jupyter-widgets/controls",
     "model_module_version": "1.5.0",
     "model_name": "DescriptionStyleModel",
     "state": {
      "_model_module": "@jupyter-widgets/controls",
      "_model_module_version": "1.5.0",
      "_model_name": "DescriptionStyleModel",
      "_view_count": null,
      "_view_module": "@jupyter-widgets/base",
      "_view_module_version": "1.2.0",
      "_view_name": "StyleView",
      "description_width": "initial"
     }
    },
    "94ce7d975ed34e818d9882e6db8e6125": {
     "model_module": "@jupyter-widgets/controls",
     "model_module_version": "1.5.0",
     "model_name": "DropdownModel",
     "state": {
      "_dom_classes": [],
      "_model_module": "@jupyter-widgets/controls",
      "_model_module_version": "1.5.0",
      "_model_name": "DropdownModel",
      "_options_labels": [
       "us-east5",
       "europe-west1"
      ],
      "_view_count": null,
      "_view_module": "@jupyter-widgets/controls",
      "_view_module_version": "1.5.0",
      "_view_name": "DropdownView",
      "description": "Select a location:",
      "description_tooltip": null,
      "disabled": false,
      "index": 0,
      "layout": "IPY_MODEL_79edf425ca4d4923a2e4e8019436ff21",
      "style": "IPY_MODEL_87daf14dc5bb4bb2a1dc941695cc3e84"
     }
    },
    "ae49fb6e59954478abaac49b361a4a6a": {
     "model_module": "@jupyter-widgets/controls",
     "model_module_version": "1.5.0",
     "model_name": "DropdownModel",
     "state": {
      "_dom_classes": [],
      "_model_module": "@jupyter-widgets/controls",
      "_model_module_version": "1.5.0",
      "_model_name": "DropdownModel",
      "_options_labels": [
       "us-east5",
       "europe-west1"
      ],
      "_view_count": null,
      "_view_module": "@jupyter-widgets/controls",
      "_view_module_version": "1.5.0",
      "_view_name": "DropdownView",
      "description": "Select a location:",
      "description_tooltip": null,
      "disabled": false,
      "index": 1,
      "layout": "IPY_MODEL_2f656870fc5b4111b6c4bc591ed23440",
      "style": "IPY_MODEL_445f81a27f8d498ea892780bfed88c68"
     }
    }
   }
  }
 },
 "nbformat": 4,
 "nbformat_minor": 0
}
